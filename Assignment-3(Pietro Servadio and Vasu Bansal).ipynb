{
  "cells": [
    {
      "cell_type": "markdown",
      "metadata": {
        "id": "fWfLr82HaBsu"
      },
      "source": [
        "Pietro Servadio and Vasu Bansal"
      ]
    },
    {
      "cell_type": "code",
      "execution_count": 1,
      "metadata": {
        "colab": {
          "base_uri": "https://localhost:8080/"
        },
        "id": "IzPQtZzOCi7T",
        "outputId": "b7dbd0c1-4f39-4600-eae9-48f12345bed6"
      },
      "outputs": [
        {
          "name": "stdout",
          "output_type": "stream",
          "text": [
            "Mounted at /content/drive\n"
          ]
        }
      ],
      "source": [
        "from google.colab import drive\n",
        "drive.mount('/content/drive')"
      ]
    },
    {
      "cell_type": "code",
      "execution_count": 2,
      "metadata": {
        "id": "F-TTdHTcC21X"
      },
      "outputs": [],
      "source": [
        "import os\n",
        "os.getcwd()\n",
        "os.chdir(\"/content/drive/My Drive/Colab Notebooks/IDL\")"
      ]
    },
    {
      "cell_type": "code",
      "execution_count": 3,
      "metadata": {
        "id": "udeTDKDvy7g3"
      },
      "outputs": [],
      "source": [
        "import tensorflow as tf\n",
        "from tensorflow import keras\n",
        "from tensorflow.keras import layers\n",
        "from tensorflow.keras import Sequential\n",
        "from tensorflow.keras.datasets import cifar10\n",
        "\n",
        "import numpy as np\n",
        "\n",
        "import matplotlib.pyplot as plt\n",
        "\n"
      ]
    },
    {
      "cell_type": "code",
      "execution_count": 11,
      "metadata": {
        "id": "Xgoc48WuJitf"
      },
      "outputs": [],
      "source": [
        "# Parameters of the input images\n",
        "quad_img_size = 32\n",
        "image_dimensions = 3\n",
        "\n",
        "# fliter sizes\n",
        "no_fils_1 = 200\n",
        "no_fils_2 = 200\n",
        "\n",
        "# kernel sizes\n",
        "kernel1 = 3\n",
        "kernel2 = 6\n",
        "\n",
        "#padding sizes\n",
        "pad1=\"valid\"\n",
        "pad2=\"valid\"\n",
        "\n",
        "#activation paramters\n",
        "activation1=\"relu\"\n",
        "activation2=\"relu\"\n",
        "\n",
        "# Parameters of training\n",
        "train_steps = 4000"
      ]
    },
    {
      "cell_type": "code",
      "execution_count": 5,
      "metadata": {
        "colab": {
          "base_uri": "https://localhost:8080/",
          "height": 482
        },
        "id": "qbO2jodSJQzB",
        "outputId": "4e7fc958-f626-4e45-b9ce-f7322b073d9f"
      },
      "outputs": [
        {
          "name": "stdout",
          "output_type": "stream",
          "text": [
            "Downloading data from https://www.cs.toronto.edu/~kriz/cifar-10-python.tar.gz\n",
            "170498071/170498071 [==============================] - 3s 0us/step\n",
            "deer\n"
          ]
        },
        {
          "data": {
            "image/png": "[encoded data removed]",
            "text/plain": [
              "<Figure size 640x480 with 1 Axes>"
            ]
          },
          "metadata": {},
          "output_type": "display_data"
        }
      ],
      "source": [
        "# just data stuff\n",
        "(train_images, train_labels), (test_images, test_labels) = cifar10.load_data()\n",
        "\n",
        "labels = ['airplane','automobile','bird','cat','deer','dog','frog','horse','ship','truck']\n",
        "\n",
        "print(labels[train_labels[10][0]])\n",
        "# print(train_labels[0])\n",
        "plt.imshow(train_images[10], cmap=\"Greys_r\")\n",
        "\n",
        "train_data = tf.data.Dataset.from_tensor_slices(\n",
        "    (train_images.reshape([-1, quad_img_size, quad_img_size, image_dimensions]).astype(np.float32) / 255., train_labels.astype(np.int32)))\n",
        "train_data = train_data.shuffle(buffer_size=60000).batch(128).repeat()\n",
        "\n",
        "# note: we batch the test data, but do not shuffle/repeat\n",
        "test_data = tf.data.Dataset.from_tensor_slices(\n",
        "    (test_images.reshape([-1, quad_img_size, quad_img_size, image_dimensions]).astype(np.float32) / 255., test_labels.astype(np.int32))).batch(128)"
      ]
    },
    {
      "cell_type": "code",
      "execution_count": 6,
      "metadata": {
        "id": "wNg31pBUKMsW"
      },
      "outputs": [],
      "source": [
        "model = Sequential(\n",
        "    [\n",
        "        keras.Input(shape=(quad_img_size, quad_img_size, image_dimensions)),\n",
        "        layers.Conv2D(no_fils_1, kernel1, padding=pad1, activation=activation1),\n",
        "        layers.MaxPool2D(pool_size=(2, 2)),\n",
        "        # layers.Dropout(.1),\n",
        "        layers.Conv2D(no_fils_2, kernel2, padding=pad2, activation=activation2),\n",
        "        layers.BatchNormalization(),\n",
        "        layers.MaxPool2D(pool_size=(2, 2)),\n",
        "        layers.Flatten(),\n",
        "        layers.Dense(256,activation='relu'),\n",
        "        layers.Dropout(.5),\n",
        "        layers.Dense(10,activation='softmax'),\n",
        "    ])"
      ]
    },
    {
      "cell_type": "code",
      "execution_count": 7,
      "metadata": {
        "id": "5Lr-1wkFKMpG"
      },
      "outputs": [],
      "source": [
        "\n",
        "# Instantiate a loss function.\n",
        "loss_fn = tf.keras.losses.SparseCategoricalCrossentropy(from_logits=True)\n",
        "\n",
        "# Instantiate an optimizer.\n",
        "optimizer = tf.keras.optimizers.Adam()\n"
      ]
    },
    {
      "cell_type": "code",
      "execution_count": 8,
      "metadata": {
        "id": "avGzLHm6KMmP"
      },
      "outputs": [],
      "source": [
        "def train(model, max_steps):\n",
        "\n",
        "      print('Start of training')\n",
        "      acc = tf.keras.metrics.SparseCategoricalAccuracy()\n",
        "\n",
        "      # Iterate over the batches of the dataset.\n",
        "      for step, (x_batch_train, y_batch_train) in enumerate(train_data):\n",
        "        if step > max_steps:\n",
        "          break\n",
        "        # Open a GradientTape to record the operations run\n",
        "        # during the forward pass, which enables autodifferentiation.\n",
        "        with tf.GradientTape() as tape:\n",
        "\n",
        "              # Run the forward pass of the layer.\n",
        "              # The operations that the layer applies\n",
        "              # to its inputs are going to be recorded\n",
        "              # on the GradientTape.\n",
        "              logits = model(x_batch_train, training=True)  # Logits for this minibatch\n",
        "\n",
        "              # Compute the loss value for this minibatch.\n",
        "              loss_value = loss_fn(y_batch_train, logits)\n",
        "\n",
        "        # Use the gradient tape to automatically retrieve\n",
        "        # the gradients of the trainable variables with respect to the loss.\n",
        "        grads = tape.gradient(loss_value, model.trainable_weights)\n",
        "\n",
        "        # Run one step of gradient descent by updating\n",
        "        # the value of the variables to minimize the loss.\n",
        "        optimizer.apply_gradients(zip(grads, model.trainable_weights))\n",
        "        acc(y_batch_train, logits)\n",
        "\n",
        "        # Log every 200 batches.\n",
        "        if step % 200 == 0:\n",
        "            print(\"Loss: {} Accuracy: {}\".format(loss_value, acc.result()))"
      ]
    },
    {
      "cell_type": "code",
      "execution_count": 12,
      "metadata": {
        "colab": {
          "base_uri": "https://localhost:8080/"
        },
        "id": "x7CT750_KMj0",
        "outputId": "1bde7caa-c66c-491d-ea87-f5c0dae0765f"
      },
      "outputs": [
        {
          "name": "stdout",
          "output_type": "stream",
          "text": [
            "Start of training\n",
            "Loss: 0.6737180352210999 Accuracy: 0.765625\n",
            "Loss: 0.625118613243103 Accuracy: 0.7473180890083313\n",
            "Loss: 0.5616989135742188 Accuracy: 0.7437987327575684\n",
            "Loss: 0.5836949348449707 Accuracy: 0.7514047622680664\n",
            "Loss: 0.533237874507904 Accuracy: 0.7539831399917603\n",
            "Loss: 0.588994026184082 Accuracy: 0.7596772909164429\n",
            "Loss: 0.6932772397994995 Accuracy: 0.7619999647140503\n",
            "Loss: 0.838963508605957 Accuracy: 0.7658105492591858\n",
            "Loss: 0.7080565690994263 Accuracy: 0.767910897731781\n",
            "Loss: 0.6389782428741455 Accuracy: 0.7718550562858582\n",
            "Loss: 0.44743162393569946 Accuracy: 0.7741003632545471\n",
            "Loss: 0.5113519430160522 Accuracy: 0.7775678038597107\n",
            "Loss: 0.36190563440322876 Accuracy: 0.7805172204971313\n",
            "Loss: 0.6368115544319153 Accuracy: 0.7835046648979187\n",
            "Loss: 0.41979479789733887 Accuracy: 0.786357581615448\n",
            "Loss: 0.560545802116394 Accuracy: 0.7892947196960449\n",
            "Loss: 0.385636568069458 Accuracy: 0.7920624017715454\n",
            "Loss: 0.5250662565231323 Accuracy: 0.7949069142341614\n",
            "Loss: 0.46537595987319946 Accuracy: 0.7972599267959595\n",
            "Loss: 0.2914878726005554 Accuracy: 0.8000127673149109\n",
            "Loss: 0.29057905077934265 Accuracy: 0.80272376537323\n"
          ]
        }
      ],
      "source": [
        "train(model, max_steps=train_steps)"
      ]
    },
    {
      "cell_type": "code",
      "execution_count": 13,
      "metadata": {
        "colab": {
          "base_uri": "https://localhost:8080/"
        },
        "id": "2EzXKyqKKMg6",
        "outputId": "9eb6b0e7-17ae-4eb2-94ac-84692df5ab93"
      },
      "outputs": [
        {
          "name": "stdout",
          "output_type": "stream",
          "text": [
            "Test acc: 0.73580002784729\n"
          ]
        }
      ],
      "source": [
        "test_acc_metric = tf.keras.metrics.SparseCategoricalAccuracy()\n",
        "# test_acc_metric = tf.keras.metrics.CategoricalAccuracy()\n",
        "\n",
        "for _, (test_images, test_labels) in enumerate(test_data):\n",
        "    test_acc_metric(test_labels, model(test_images, training=False))\n",
        "\n",
        "test_acc = test_acc_metric.result()\n",
        "test_acc_metric.reset_states()\n",
        "\n",
        "# print(\"Test acc: {}\".format(test_acc_metric.result()))\n",
        "print(\"Test acc: {}\".format(test_acc))"
      ]
    }
  ],
  "metadata": {
    "accelerator": "GPU",
    "colab": {
      "gpuType": "T4",
      "provenance": []
    },
    "kernelspec": {
      "display_name": "Python 3",
      "name": "python3"
    },
    "language_info": {
      "name": "python"
    }
  },
  "nbformat": 4,
  "nbformat_minor": 0
}
